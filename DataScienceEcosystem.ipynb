{
 "cells": [
  {
   "cell_type": "markdown",
   "id": "fe264818-9e45-48da-8836-b021659a249e",
   "metadata": {
    "tags": []
   },
   "source": [
    "# Data Science Tools and Ecosystem"
   ]
  },
  {
   "cell_type": "markdown",
   "id": "4de0865e-b981-478a-a8d4-91ae53c5e37d",
   "metadata": {},
   "source": [
    "## Author\n",
    "Bert Vangramberen"
   ]
  },
  {
   "cell_type": "markdown",
   "id": "796051af-90c6-4726-9d0f-7c50ffbe7079",
   "metadata": {},
   "source": [
    "In this notebook, Data Science Tools and Ecosystem are summarized."
   ]
  },
  {
   "cell_type": "markdown",
   "id": "bbeabbc8-5594-46e1-bd4c-0e55ddbc5ad6",
   "metadata": {},
   "source": [
    "**Objectives:**"
   ]
  },
  {
   "cell_type": "markdown",
   "id": "46b7ee22-3d20-4631-9bb3-3e7dedd036b2",
   "metadata": {},
   "source": [
    "- List popular languages that Data Scientists use\n",
    "- List commonly used libraries used by Data Scientists\n",
    "- Provide a few examples of evaluating arithmetic expressions in Python"
   ]
  },
  {
   "cell_type": "markdown",
   "id": "8c390c37-c9ae-4caf-88fc-93f99c47822e",
   "metadata": {},
   "source": [
    "Some of the popular languages that Data Scientists use are:\n",
    "1. Python\n",
    "2. R\n",
    "3. SQL\n",
    "4. Scala"
   ]
  },
  {
   "cell_type": "markdown",
   "id": "2d6d69aa-28ae-41ec-8f8e-0314160b5d77",
   "metadata": {},
   "source": [
    "Some of the commonly used libraries used by Data Scientists include:\n",
    "1. NumPy\n",
    "2. Pandas\n",
    "3. Matplotlib\n",
    "4. Seaborn\n",
    "\n"
   ]
  },
  {
   "cell_type": "markdown",
   "id": "edebee34-547c-4735-bad2-88634f059fe0",
   "metadata": {},
   "source": [
    "|Data Science Tools|\n",
    "|------------------|\n",
    "|Jupyter Notebook|\n",
    "|Tensorflow|\n",
    "|Pandas|\n",
    "\n"
   ]
  },
  {
   "cell_type": "markdown",
   "id": "394a23e5-51e8-4e31-9f72-07f94a59b75a",
   "metadata": {},
   "source": [
    "### Below are a few examples of evaluating arithmetic expressions in Python"
   ]
  },
  {
   "cell_type": "markdown",
   "id": "b78b2ebc-b387-452f-afa5-20b2fb0c751c",
   "metadata": {
    "tags": []
   },
   "source": [
    "This a simple arithmetic expression to mutiply then add integers:"
   ]
  },
  {
   "cell_type": "code",
   "execution_count": 3,
   "id": "b7d8a2b5-0fe4-46e5-9e79-4664f1a0c424",
   "metadata": {
    "tags": []
   },
   "outputs": [
    {
     "data": {
      "text/plain": [
       "17"
      ]
     },
     "execution_count": 3,
     "metadata": {},
     "output_type": "execute_result"
    }
   ],
   "source": [
    "(3*4)+5"
   ]
  },
  {
   "cell_type": "markdown",
   "id": "59586058-fc2a-4849-9fc0-a6cfe6ee73fb",
   "metadata": {},
   "source": [
    "This will convert 200 minutes into hours:"
   ]
  },
  {
   "cell_type": "code",
   "execution_count": 1,
   "id": "3af84daa-172a-4076-a0c7-a0666a31818b",
   "metadata": {
    "tags": []
   },
   "outputs": [
    {
     "name": "stdout",
     "output_type": "stream",
     "text": [
      "200 minutes is equal to 3.3333333333333335 hours.\n"
     ]
    }
   ],
   "source": [
    "minutes = 200\n",
    "hours = minutes / 60\n",
    "print(f\"{minutes} minutes is equal to {hours} hours.\")"
   ]
  }
 ],
 "metadata": {
  "kernelspec": {
   "display_name": "Python",
   "language": "python",
   "name": "conda-env-python-py"
  },
  "language_info": {
   "codemirror_mode": {
    "name": "ipython",
    "version": 3
   },
   "file_extension": ".py",
   "mimetype": "text/x-python",
   "name": "python",
   "nbconvert_exporter": "python",
   "pygments_lexer": "ipython3",
   "version": "3.7.12"
  }
 },
 "nbformat": 4,
 "nbformat_minor": 5
}
